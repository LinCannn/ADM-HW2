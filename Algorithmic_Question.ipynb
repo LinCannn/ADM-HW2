{
 "cells": [
  {
   "cell_type": "markdown",
   "id": "9355bb21-e2e6-4401-861d-497bb2149d5f",
   "metadata": {},
   "source": [
    "#### Algoritmic Question\n",
    "\n",
    "we can have two occurances for k:\n",
    "\n",
    "    odd k:\n",
    "        we can have:\n",
    "            odd set of numbers : sum will ve odd \n",
    "            even set of numbers : sum will be even\n",
    "\n",
    "    even k:\n",
    "        we can have:\n",
    "            odd set of numbers : sum will be even\n",
    "            even set of numbers : sum will be even\n",
    "\n",
    "\n",
    "so if n is odd, k or numbers cannot be even : we must have odd k and odd numbers:\n",
    "   - for this we have to have all odd numbers in the set, I defined a base set of all 1\n",
    "\n",
    "if n is even : the set should be even so it can have a base set of all 2\n",
    "\n",
    "the rest is how to fill the numbers up to get to the sum n:\n",
    "    - defined a function that randomly increases the elements by 2 to get to that point\n",
    "\n",
    "\n",
    "    \n",
    "    "
   ]
  },
  {
   "cell_type": "code",
   "execution_count": null,
   "id": "e8c9ae6c-91a6-4617-9868-56e851109abb",
   "metadata": {},
   "outputs": [
    {
     "name": "stdin",
     "output_type": "stream",
     "text": [
      " 8\n",
      " 10 3\n"
     ]
    },
    {
     "name": "stdout",
     "output_type": "stream",
     "text": [
      "YES\n",
      "[4, 4, 2]\n"
     ]
    },
    {
     "name": "stdin",
     "output_type": "stream",
     "text": [
      " 100 4\n"
     ]
    },
    {
     "name": "stdout",
     "output_type": "stream",
     "text": [
      "YES\n",
      "[14, 36, 16, 34]\n"
     ]
    },
    {
     "name": "stdin",
     "output_type": "stream",
     "text": [
      " 8 7\n"
     ]
    },
    {
     "name": "stdout",
     "output_type": "stream",
     "text": [
      "NO\n"
     ]
    },
    {
     "name": "stdin",
     "output_type": "stream",
     "text": [
      " 97 2\n"
     ]
    },
    {
     "name": "stdout",
     "output_type": "stream",
     "text": [
      "NO\n"
     ]
    },
    {
     "name": "stdin",
     "output_type": "stream",
     "text": [
      " 8 8\n"
     ]
    },
    {
     "name": "stdout",
     "output_type": "stream",
     "text": [
      "YES\n",
      "[1, 1, 1, 1, 1, 1, 1, 1]\n"
     ]
    },
    {
     "name": "stdin",
     "output_type": "stream",
     "text": [
      " 5 3\n"
     ]
    },
    {
     "name": "stdout",
     "output_type": "stream",
     "text": [
      "YES\n",
      "[3, 1, 1]\n"
     ]
    }
   ],
   "source": [
    "import random\n",
    "\n",
    "T = int(input()) #number of test cases\n",
    "\n",
    "# function to increase k numbers to have sum = n \n",
    "def fill_up(n, k):\n",
    "    if sum(results) < n:\n",
    "        results[random.randrange(k)] += 2 #increasing random numbers by 2 to keep its pairity\n",
    "        fill_up(n, k)\n",
    "    else:\n",
    "        print('YES')\n",
    "        print(results)\n",
    "        return\n",
    "\n",
    "for i in range(0, T):\n",
    "    n, k = map(int, input().split())\n",
    "    if n % 2 == 1:   \n",
    "        if k % 2 == 0:  # odd n and even k -> not possible\n",
    "            print('NO')\n",
    "        else:           # odd n and odd k -> define a base set of k * [1], increase them with fill up to get to sum = n\n",
    "            results = [1] * k \n",
    "            fill_up(n, k)\n",
    "    else:\n",
    "        if n == k:     # if n = k : we can only have k * [1]\n",
    "            results = [1] * k\n",
    "            print('YES')\n",
    "            print(results)\n",
    "        elif n < 2 * k:    # if k is even, so all the k numbers should be even : at least 2 , so n must not be smaller than 2k\n",
    "            print('NO')\n",
    "        else:              # we're gonna deine a base set of k * [2], increase them with fill up to get to sum = n\n",
    "            results = [2] * k\n",
    "            fill_up(n, k)\n",
    "            "
   ]
  },
  {
   "cell_type": "code",
   "execution_count": 1,
   "id": "a863cf66-caf9-43aa-8de9-7407dfa98cac",
   "metadata": {},
   "outputs": [
    {
     "data": {
      "text/plain": [
       "1"
      ]
     },
     "execution_count": 1,
     "metadata": {},
     "output_type": "execute_result"
    }
   ],
   "source": [
    "1"
   ]
  },
  {
   "cell_type": "code",
   "execution_count": null,
   "id": "02a4a663-537a-4a67-895d-f233bf7bc491",
   "metadata": {},
   "outputs": [],
   "source": []
  }
 ],
 "metadata": {
  "kernelspec": {
   "display_name": "Python 3 (ipykernel)",
   "language": "python",
   "name": "python3"
  },
  "language_info": {
   "codemirror_mode": {
    "name": "ipython",
    "version": 3
   },
   "file_extension": ".py",
   "mimetype": "text/x-python",
   "name": "python",
   "nbconvert_exporter": "python",
   "pygments_lexer": "ipython3",
   "version": "3.12.4"
  }
 },
 "nbformat": 4,
 "nbformat_minor": 5
}
