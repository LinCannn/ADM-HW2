{
 "cells": [
  {
   "cell_type": "markdown",
   "id": "9355bb21-e2e6-4401-861d-497bb2149d5f",
   "metadata": {},
   "source": [
    "#### Algoritmic Question\n",
    "\n",
    "we can have two occurances for k:\n",
    "\n",
    "    odd k:\n",
    "        we can have:\n",
    "            odd set of numbers : sum will ve odd \n",
    "            even set of numbers : sum will be even\n",
    "\n",
    "    even k:\n",
    "        we can have:\n",
    "            odd set of numbers : sum will be even\n",
    "            even set of numbers : sum will be even\n",
    "\n",
    "\n",
    "so if n is odd, k or numbers cannot be even : we must have odd k and odd numbers:\n",
    "   - for this we have to have all odd numbers in the set, I defined a base set of all 1\n",
    "\n",
    "if n is even : the set should be even so it can have a base set of all 2\n",
    "\n",
    "the rest is how to fill the numbers up to get to the sum n:\n",
    "    - defined a function that randomly increases the elements by 2 to get to that point\n",
    "    "
   ]
  },
  {
   "cell_type": "code",
   "execution_count": null,
   "id": "e8c9ae6c-91a6-4617-9868-56e851109abb",
   "metadata": {},
   "outputs": [
    {
     "name": "stdin",
     "output_type": "stream",
     "text": [
      " 8\n",
      " 10 3\n"
     ]
    },
    {
     "name": "stdout",
     "output_type": "stream",
     "text": [
      "YES\n",
      "[4, 4, 2]\n"
     ]
    },
    {
     "name": "stdin",
     "output_type": "stream",
     "text": [
      " 100 4\n"
     ]
    },
    {
     "name": "stdout",
     "output_type": "stream",
     "text": [
      "YES\n",
      "[14, 36, 16, 34]\n"
     ]
    },
    {
     "name": "stdin",
     "output_type": "stream",
     "text": [
      " 8 7\n"
     ]
    },
    {
     "name": "stdout",
     "output_type": "stream",
     "text": [
      "NO\n"
     ]
    },
    {
     "name": "stdin",
     "output_type": "stream",
     "text": [
      " 97 2\n"
     ]
    },
    {
     "name": "stdout",
     "output_type": "stream",
     "text": [
      "NO\n"
     ]
    },
    {
     "name": "stdin",
     "output_type": "stream",
     "text": [
      " 8 8\n"
     ]
    },
    {
     "name": "stdout",
     "output_type": "stream",
     "text": [
      "YES\n",
      "[1, 1, 1, 1, 1, 1, 1, 1]\n"
     ]
    },
    {
     "name": "stdin",
     "output_type": "stream",
     "text": [
      " 5 3\n"
     ]
    },
    {
     "name": "stdout",
     "output_type": "stream",
     "text": [
      "YES\n",
      "[3, 1, 1]\n"
     ]
    }
   ],
   "source": [
    "import random\n",
    "\n",
    "T = int(input()) #number of test cases\n",
    "\n",
    "# function to increase k numbers to have sum = n \n",
    "def fill_up(n, k):\n",
    "    if sum(results) < n:\n",
    "        results[random.randrange(k)] += 2 #increasing random numbers by 2 to keep its pairity\n",
    "        fill_up(n, k)\n",
    "    else:\n",
    "        print('YES')\n",
    "        print(results)\n",
    "        return\n",
    "\n",
    "for i in range(0, T):\n",
    "    n, k = map(int, input().split())\n",
    "    if n % 2 == 1:   \n",
    "        if k % 2 == 0:  # odd n and even k -> not possible\n",
    "            print('NO')\n",
    "        else:           # odd n and odd k -> define a base set of k * [1], increase them with fill up to get to sum = n\n",
    "            results = [1] * k \n",
    "            fill_up(n, k)\n",
    "    else:\n",
    "        if n == k:     # if n = k : we can only have k * [1]\n",
    "            results = [1] * k\n",
    "            print('YES')\n",
    "            print(results)\n",
    "        elif n < 2 * k:    # if k is even, so all the k numbers should be even : at least 2 , so n must not be smaller than 2k\n",
    "            print('NO')\n",
    "        else:              # we're gonna deine a base set of k * [2], increase them with fill up to get to sum = n\n",
    "            results = [2] * k\n",
    "            fill_up(n, k)\n",
    "            "
   ]
  },
  {
   "cell_type": "markdown",
   "id": "04610b8d-c055-46e4-ba9e-e7c76ab47946",
   "metadata": {},
   "source": [
    "### Time Complexity Analysis\n",
    "\n",
    "The time complexity of the code is primarily driven by the recursive function `fill_up()`, which incrementally adjusts the elements in the list `results` until their sum reaches a target value \\( n \\). Here's a detailed breakdown of the complexity:\n",
    "\n",
    "1. **Loop over Test Cases**\n",
    "   - The code processes \\( T \\) test cases in total.\n",
    "   - For each test case, constant-time operations are performed to check conditions and initialize the list `results`. This takes \\( O(T) \\) time overall.\n",
    "\n",
    "2. **Recursive Function `fill_up()`**\n",
    "   - **Per Call Complexity**: Each call to `fill_up()` performs a random selection and sum calculation over `results`, both of which are \\( O(k) \\) operations.\n",
    "   - **Number of Recursive Calls**: In the worst case, `fill_up()` might need up to \\( O((n - k) / 2) \\) calls to reach the target sum \\( n \\). This is because each call increases the total sum by 2, and the initial sum of `results` starts from \\( k \\times 1 \\) or \\( k \\times 2 \\).\n",
    "   - **Total Complexity for `fill_up()`**: This results in a time complexity of \\( O(k \\times (n - k)) \\) for the recursive function in the worst case.\n",
    "\n",
    "3. **Overall Complexity**\n",
    "   - Since the loop over test cases invokes `fill_up()` for each test case, the total complexity for \\( T \\) test cases is:\n",
    "   \n",
    "   \\[\n",
    "   O(T \\times k \\times (n - k))\n",
    "   \\]\n",
    "\n",
    "This final complexity captures:\n",
    "- \\( T \\): the number of test cases,\n",
    "- \\( k \\): the number of elements in `results`,\n",
    "- \\( n \\): the target sum we want to reach.\n",
    "\n",
    "Thus, the overall time complexity of the code is:\n",
    "\\[\n",
    "O(T \\times k \\times (n - k))\n",
    "\\]\n",
    "\n",
    "ChatGPT gave the same answer for evaulating the time complexity."
   ]
  }
 ],
 "metadata": {
  "kernelspec": {
   "display_name": "Python 3 (ipykernel)",
   "language": "python",
   "name": "python3"
  },
  "language_info": {
   "codemirror_mode": {
    "name": "ipython",
    "version": 3
   },
   "file_extension": ".py",
   "mimetype": "text/x-python",
   "name": "python",
   "nbconvert_exporter": "python",
   "pygments_lexer": "ipython3",
   "version": "3.12.4"
  }
 },
 "nbformat": 4,
 "nbformat_minor": 5
}
