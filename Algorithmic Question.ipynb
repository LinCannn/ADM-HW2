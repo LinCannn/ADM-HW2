{
 "cells": [
  {
   "cell_type": "markdown",
   "metadata": {},
   "source": [
    "## Algorithmic Question\n",
    "\n",
    "-----------------------------------\n",
    "\n",
    "You are given two positive integers, $n$ (where 1 ≤ $n$ ≤ 10<sup>9</sup>) and $k$ (where $q$ ≤ $k$ ≤ 100 ). Your task is to express $n$ as the sum of $k$ positive integers, all having the same parity (i.e., all have the same remainder when divided by 2, meaning they are either all even or all odd). In other words, find $a_1$ , $a_2$ , . . . , $a_k$ each $a_i$ > 0 , $n$ = $a_1$ + $a_2$ + . . . + $a_k$ , and all $a_i$ simultaneously are either even or odd. If it's impossible to represent $n$ in this way, report that no such representation exists.\n",
    "\n",
    "Input\n",
    "\n",
    "In the first input line, you will receive a number $t$ (where 1 ≤ $t$ ≤ 100 ), representing the number of test cases. The following $t$ lines will contain two values, $n$ and $k$ , corresponding to each test case.\n",
    "\n",
    "Output\n",
    "\n",
    "For each test case, if it is possible to represent $n$ as the sum of $k$ positive integers, all of the same parity (either all even or all odd), print \"YES\" and provide the corresponding values of $a_i$ in the next line. If there are multiple valid solutions, you can print any of them. If such a representation is not possible for a given test case, print \"NO\".\n",
    "\n",
    "\n",
    "   - Implement a Python program to solve the problem above.\n",
    "   - Please provide an analysis of your code's time complexity using Big O notation.\n",
    "   - Ask an LLM tool (such as ChatGPT, Claude AI, Gemini, Perplexity, etc.) to evaluate the time complexity of your code using Big O notation. Is the assessment accurate? If it differs from your previous analysis, which would be correct? Please explain your reasoning.\n",
    "\n",
    "Have fun!"
   ]
  },
  {
   "cell_type": "code",
   "execution_count": null,
   "metadata": {},
   "outputs": [],
   "source": [
    "def find_sum(n, k):\n",
    "    # Case 1: Same parity\n",
    "    if n % 2 == k % 2 and n >= k:\n",
    "        print(\"YES\")\n",
    "        print(\"1 \" * (k - 1) + str(n - (k - 1)))\n",
    "    # Case 2: Different parity\n",
    "    # n odd and k even\n",
    "    elif n % 2 == 1 and k % 2 == 0:\n",
    "        print('NO')\n",
    "    # n even and k odd\n",
    "    elif n % 2 == 0 and k % 2 == 1:\n",
    "        if  n >= 2 * k:\n",
    "            print(\"YES\")\n",
    "            print(\"2 \" * (k - 1) + str(n - 2 * (k - 1)))\n",
    "        else:\n",
    "            print(\"NO\")"
   ]
  },
  {
   "cell_type": "markdown",
   "metadata": {},
   "source": [
    "### Algorithm\n",
    "\n",
    "The `find_sum()` function takes in input two integers: $n$ and $k$ and tells us if we can find $k$ integers of the same parity that sum up to $n$, if this is possible the function prints one of the possible integer sequences that sums up to $n$.\n",
    "\n",
    "In the first case we have that $n$ is larger than $k$ and they're both even or both odd. In this case it is possible to write $n$ as a sum of $k$ integers of the same parity, in particular we can write $n$ as a sum of $k-1$ ones and $n-(k-1)$, we're certain that this last integer is odd because if both $n$ and $k$ are odd then the difference between $n$, that is odd, and $k-1$ which is even will be an odd number.\n",
    "\n",
    "In the second case we have that $n$ is odd while $k$ is even, in this case it is impossible to write an odd number as a sum of an even number of even numbers and it's impossible to write an odd number as a sum of an even number of odd numbers. So if $n$ is odd and $k$ is even this function will always return \"NO\".\n",
    "\n",
    "In the last case, that is $n$ even and $k$ odd, we have that we can write $n$ as a sum of $k$ integers all of the same parity only if $n$&ge;$2k$ and we can write $n$ as the sum of $k-1$ twos and $n-2$ $\\times$ $(k-1)$. We have that $k-1$ is even since $k$ is odd, and $n-2$ $\\times$ $(k-1)$ is even too because $n$ is even and 2 $\\times$ $(k-1)$ is even because it's a multiple of 2. If $n<2k$ we can't write $n$ as a sum of $k$ integers of the same parity, hence the function will print \"NO\"."
   ]
  },
  {
   "cell_type": "markdown",
   "metadata": {},
   "source": [
    "### Analysis of the algorithm's time complexity\n",
    "\n",
    "In this algorithm we have the worst case scenario if we can actually write $n$ as a sum of $k$ integers of the same parity. In this case we'll have to print \"YES\" and the sequence of integers that sums up to $n$, hence we'll have to do $k$ printing operations that have $O(1)$ time complexity, therefore the time complexity of this algorithm will be $O(k)$. "
   ]
  },
  {
   "cell_type": "markdown",
   "metadata": {},
   "source": [
    "### LLM Answers\n",
    "\n",
    "If we ask ChatGPT for the time complexity of this algorithms it will tell us that it is $O(K)$. \n",
    "\n",
    "Copilot, instead answered us that this algorithm is $O(1)$ because it consists in a series of conditional checks, there aren't loops or recursive calls and each print operation and computation within the conditions is executed at most once. We think that this isn't correct since it doesn't consider that we have to print multiple times a value if there are $k$ integers of the same parity that sum up to $n$."
   ]
  }
 ],
 "metadata": {
  "kernelspec": {
   "display_name": "base",
   "language": "python",
   "name": "python3"
  },
  "language_info": {
   "codemirror_mode": {
    "name": "ipython",
    "version": 3
   },
   "file_extension": ".py",
   "mimetype": "text/x-python",
   "name": "python",
   "nbconvert_exporter": "python",
   "pygments_lexer": "ipython3",
   "version": "3.12.4"
  }
 },
 "nbformat": 4,
 "nbformat_minor": 2
}
